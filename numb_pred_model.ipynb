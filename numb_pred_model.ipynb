{
  "nbformat": 4,
  "nbformat_minor": 0,
  "metadata": {
    "colab": {
      "provenance": []
    },
    "kernelspec": {
      "name": "python3",
      "display_name": "Python 3"
    },
    "language_info": {
      "name": "python"
    }
  },
  "cells": [
    {
      "cell_type": "code",
      "execution_count": 1,
      "metadata": {
        "id": "y1pdL__4D9Mn"
      },
      "outputs": [],
      "source": [
        "import numpy as np\n",
        "from PIL import Image\n",
        "import torch\n",
        "from torch import nn\n",
        "from torch.nn import functional as F\n",
        "import torch.optim as optim\n",
        "from torchvision import datasets, transforms\n",
        "from torchvision.datasets import MNIST\n",
        "\n",
        "from matplotlib import pyplot as plt\n",
        "#from IPython.display import clear_output"
      ]
    },
    {
      "cell_type": "code",
      "source": [
        "def add_noise(x):\n",
        "    return x + torch.randn_like(x) * 0.1"
      ],
      "metadata": {
        "id": "6S3gOEgXEA4x"
      },
      "execution_count": 2,
      "outputs": []
    },
    {
      "cell_type": "code",
      "source": [
        "transform = transforms.Compose([\n",
        "      transforms.RandomRotation(degrees=(-20, 20)),\n",
        "      transforms.RandomAffine(degrees=0, translate=(0.1, 0.1), scale=(0.9, 1.1)), # Сдвиги и масштабирование\n",
        "      transforms.RandomPerspective(distortion_scale=0.2, p=0.5),\n",
        "      transforms.ToTensor(),\n",
        "      add_noise,\n",
        "      transforms.Normalize((0.1307,), (0.3081,))\n",
        "])\n",
        "\n",
        "\n",
        "train_mnist_data = datasets.MNIST('.', train=True, transform=transform, download=True)\n",
        "# Тестовый датасет без аугментации, только ToTensor\n",
        "test_mnist_data = datasets.MNIST('.', train=False, transform=transforms.ToTensor(), download=True)\n",
        "\n",
        "train_data_loader = torch.utils.data.DataLoader(\n",
        "      train_mnist_data,\n",
        "      batch_size=32,\n",
        "      shuffle=True,\n",
        "      num_workers=2\n",
        "  )\n",
        "\n",
        "test_data_loader = torch.utils.data.DataLoader(\n",
        "      test_mnist_data,\n",
        "      batch_size=32,\n",
        "      shuffle=False,\n",
        "      num_workers=2\n",
        "  )\n",
        "\n",
        "example_data = next(iter(train_data_loader))\n",
        "image, label = example_data[0][0], example_data[1][0]\n",
        "\n",
        "image = image.permute(1, 2, 0)\n",
        "image = image.numpy()\n",
        "\n",
        "\n",
        "random_batch = next(iter(train_data_loader))\n",
        "_image, _label = random_batch[0][0], random_batch[1][0]\n",
        "plt.figure()\n",
        "plt.imshow(_image.reshape(28, 28))\n",
        "plt.title(f'Image label: {_label}')\n"
      ],
      "metadata": {
        "colab": {
          "base_uri": "https://localhost:8080/",
          "height": 543
        },
        "id": "ftkZqNhM6mr4",
        "outputId": "77a3c7d2-54fb-4eaa-c9ad-568b6e24fd31"
      },
      "execution_count": 3,
      "outputs": [
        {
          "output_type": "stream",
          "name": "stderr",
          "text": [
            "100%|██████████| 9.91M/9.91M [00:00<00:00, 19.9MB/s]\n",
            "100%|██████████| 28.9k/28.9k [00:00<00:00, 596kB/s]\n",
            "100%|██████████| 1.65M/1.65M [00:00<00:00, 5.56MB/s]\n",
            "100%|██████████| 4.54k/4.54k [00:00<00:00, 6.49MB/s]\n"
          ]
        },
        {
          "output_type": "execute_result",
          "data": {
            "text/plain": [
              "Text(0.5, 1.0, 'Image label: 4')"
            ]
          },
          "metadata": {},
          "execution_count": 3
        },
        {
          "output_type": "display_data",
          "data": {
            "text/plain": [
              "<Figure size 640x480 with 1 Axes>"
            ],
            "image/png": "[encoded data removed]"
          },
          "metadata": {}
        }
      ]
    },
    {
      "cell_type": "code",
      "source": [
        "class NetCNN(nn.Module):\n",
        "    def __init__(self):\n",
        "        super().__init__()\n",
        "        self.conv_layers = nn.Sequential(\n",
        "            nn.Conv2d(1, 32, kernel_size=3),  # 1 канал (ч/б), 32 фильтра\n",
        "            nn.ReLU(),\n",
        "            nn.MaxPool2d(2),\n",
        "            nn.Conv2d(32, 64, kernel_size=3),\n",
        "            nn.ReLU(),\n",
        "            nn.MaxPool2d(2),\n",
        "        )\n",
        "        self.linear_layers = nn.Sequential(\n",
        "            nn.Linear(64 * 5 * 5, 128),  # Размер после пулинга: [64, 5, 5]\n",
        "            nn.ReLU(),\n",
        "            nn.Linear(128, 10),\n",
        "        )\n",
        "\n",
        "    def forward(self, x):\n",
        "        x = self.conv_layers(x)\n",
        "        x = x.view(x.size(0), -1)  # Развертка в вектор\n",
        "        return self.linear_layers(x)"
      ],
      "metadata": {
        "id": "fYsO8nyYERFA"
      },
      "execution_count": 4,
      "outputs": []
    },
    {
      "cell_type": "code",
      "source": [
        "device = torch.device(\"cuda\" if torch.cuda.is_available() else \"cpu\")\n",
        "model = NetCNN().to(device)\n",
        "optimizer = optim.Adam(model.parameters(), lr=0.001)\n",
        "criterion = nn.CrossEntropyLoss()"
      ],
      "metadata": {
        "id": "reyutb83Ex7D"
      },
      "execution_count": 5,
      "outputs": []
    },
    {
      "cell_type": "code",
      "source": [
        "def train(epoch):\n",
        "    model.train()\n",
        "    for batch_idx, (data, target) in enumerate(train_data_loader):\n",
        "        data, target = data.to(device), target.to(device)\n",
        "        optimizer.zero_grad()\n",
        "        output = model(data)\n",
        "        loss = criterion(output, target)\n",
        "        loss.backward()\n",
        "        optimizer.step()\n",
        "        if batch_idx % 100 == 0:\n",
        "            print(f'Train Epoch: {epoch} [{batch_idx * len(data)}/{len(train_data_loader.dataset)} '\n",
        "                  f'({100. * batch_idx / len(train_data_loader):.0f}%)]\\tLoss: {loss.item():.6f}')"
      ],
      "metadata": {
        "id": "ckwLz3caE2_l"
      },
      "execution_count": 6,
      "outputs": []
    },
    {
      "cell_type": "code",
      "source": [
        "def test():\n",
        "    model.eval()\n",
        "    test_loss = 0\n",
        "    correct = 0\n",
        "    with torch.no_grad():\n",
        "        for data, target in test_data_loader:\n",
        "            data, target = data.to(device), target.to(device)\n",
        "            output = model(data)\n",
        "            test_loss += criterion(output, target).item()\n",
        "            pred = output.argmax(dim=1, keepdim=True)\n",
        "            correct += pred.eq(target.view_as(pred)).sum().item()\n",
        "    test_loss /= len(test_data_loader)\n",
        "    accuracy = 100. * correct / len(test_data_loader.dataset)\n",
        "    print(f'\\nTest set: Average loss: {test_loss:.4f}, Accuracy: {correct}/{len(test_data_loader.dataset)} '\n",
        "          f'({accuracy:.2f}%)\\n')\n",
        "    return accuracy\n"
      ],
      "metadata": {
        "id": "ASqdh9x-FRUd"
      },
      "execution_count": 7,
      "outputs": []
    },
    {
      "cell_type": "code",
      "source": [
        "epochs = 5\n",
        "best_accuracy = 0\n",
        "for epoch in range(1, epochs + 1):\n",
        "    train(epoch)\n",
        "    current_accuracy = test()\n",
        "    if current_accuracy > best_accuracy:\n",
        "        best_accuracy = current_accuracy\n",
        "        torch.save(model.state_dict(), \"best_mnist_cnn.pth\")\n",
        "\n",
        "print(f\"Лучшая точность: {best_accuracy:.2f}%\")"
      ],
      "metadata": {
        "colab": {
          "base_uri": "https://localhost:8080/"
        },
        "id": "aqOzVJa8EVck",
        "outputId": "312a4d9a-9220-4a0a-bb40-150a34413725"
      },
      "execution_count": null,
      "outputs": [
        {
          "output_type": "stream",
          "name": "stdout",
          "text": [
            "Train Epoch: 1 [0/60000 (0%)]\tLoss: 2.338260\n",
            "Train Epoch: 1 [3200/60000 (5%)]\tLoss: 0.531370\n",
            "Train Epoch: 1 [6400/60000 (11%)]\tLoss: 0.385049\n",
            "Train Epoch: 1 [9600/60000 (16%)]\tLoss: 0.486167\n",
            "Train Epoch: 1 [12800/60000 (21%)]\tLoss: 0.261016\n",
            "Train Epoch: 1 [16000/60000 (27%)]\tLoss: 0.287978\n",
            "Train Epoch: 1 [19200/60000 (32%)]\tLoss: 0.197639\n",
            "Train Epoch: 1 [22400/60000 (37%)]\tLoss: 0.138112\n",
            "Train Epoch: 1 [25600/60000 (43%)]\tLoss: 0.522912\n",
            "Train Epoch: 1 [28800/60000 (48%)]\tLoss: 0.062889\n",
            "Train Epoch: 1 [32000/60000 (53%)]\tLoss: 0.259174\n",
            "Train Epoch: 1 [35200/60000 (59%)]\tLoss: 0.162464\n",
            "Train Epoch: 1 [38400/60000 (64%)]\tLoss: 0.369040\n",
            "Train Epoch: 1 [41600/60000 (69%)]\tLoss: 0.202630\n",
            "Train Epoch: 1 [44800/60000 (75%)]\tLoss: 0.352554\n",
            "Train Epoch: 1 [48000/60000 (80%)]\tLoss: 0.246233\n",
            "Train Epoch: 1 [51200/60000 (85%)]\tLoss: 0.148448\n",
            "Train Epoch: 1 [54400/60000 (91%)]\tLoss: 0.331046\n",
            "Train Epoch: 1 [57600/60000 (96%)]\tLoss: 0.225394\n",
            "\n",
            "Test set: Average loss: 0.3139, Accuracy: 9795/10000 (97.95%)\n",
            "\n",
            "Train Epoch: 2 [0/60000 (0%)]\tLoss: 0.198527\n",
            "Train Epoch: 2 [3200/60000 (5%)]\tLoss: 0.157671\n",
            "Train Epoch: 2 [6400/60000 (11%)]\tLoss: 0.087463\n",
            "Train Epoch: 2 [9600/60000 (16%)]\tLoss: 0.054323\n",
            "Train Epoch: 2 [12800/60000 (21%)]\tLoss: 0.181264\n",
            "Train Epoch: 2 [16000/60000 (27%)]\tLoss: 0.148391\n",
            "Train Epoch: 2 [19200/60000 (32%)]\tLoss: 0.031808\n",
            "Train Epoch: 2 [22400/60000 (37%)]\tLoss: 0.229895\n",
            "Train Epoch: 2 [25600/60000 (43%)]\tLoss: 0.264934\n",
            "Train Epoch: 2 [28800/60000 (48%)]\tLoss: 0.032722\n",
            "Train Epoch: 2 [32000/60000 (53%)]\tLoss: 0.033753\n",
            "Train Epoch: 2 [35200/60000 (59%)]\tLoss: 0.135069\n",
            "Train Epoch: 2 [38400/60000 (64%)]\tLoss: 0.252757\n",
            "Train Epoch: 2 [41600/60000 (69%)]\tLoss: 0.227197\n",
            "Train Epoch: 2 [44800/60000 (75%)]\tLoss: 0.197465\n",
            "Train Epoch: 2 [48000/60000 (80%)]\tLoss: 0.095268\n",
            "Train Epoch: 2 [51200/60000 (85%)]\tLoss: 0.075182\n",
            "Train Epoch: 2 [54400/60000 (91%)]\tLoss: 0.299922\n",
            "Train Epoch: 2 [57600/60000 (96%)]\tLoss: 0.041530\n",
            "\n",
            "Test set: Average loss: 0.2251, Accuracy: 9863/10000 (98.63%)\n",
            "\n",
            "Train Epoch: 3 [0/60000 (0%)]\tLoss: 0.179740\n",
            "Train Epoch: 3 [3200/60000 (5%)]\tLoss: 0.068700\n",
            "Train Epoch: 3 [6400/60000 (11%)]\tLoss: 0.112810\n",
            "Train Epoch: 3 [9600/60000 (16%)]\tLoss: 0.012122\n"
          ]
        }
      ]
    },
    {
      "cell_type": "code",
      "source": [
        "from google.colab import files\n",
        "torch.save(model.state_dict(), \"mnist_cnn.pth\")\n",
        "files.download('mnist_cnn.pth')"
      ],
      "metadata": {
        "colab": {
          "base_uri": "https://localhost:8080/",
          "height": 17
        },
        "id": "8Bb09LUWIQZm",
        "outputId": "18dba0f2-3642-4a9b-98ca-0ed69506022d"
      },
      "execution_count": null,
      "outputs": [
        {
          "output_type": "display_data",
          "data": {
            "text/plain": [
              "<IPython.core.display.Javascript object>"
            ],
            "application/javascript": [
              "\n",
              "    async function download(id, filename, size) {\n",
              "      if (!google.colab.kernel.accessAllowed) {\n",
              "        return;\n",
              "      }\n",
              "      const div = document.createElement('div');\n",
              "      const label = document.createElement('label');\n",
              "      label.textContent = `Downloading \"${filename}\": `;\n",
              "      div.appendChild(label);\n",
              "      const progress = document.createElement('progress');\n",
              "      progress.max = size;\n",
              "      div.appendChild(progress);\n",
              "      document.body.appendChild(div);\n",
              "\n",
              "      const buffers = [];\n",
              "      let downloaded = 0;\n",
              "\n",
              "      const channel = await google.colab.kernel.comms.open(id);\n",
              "      // Send a message to notify the kernel that we're ready.\n",
              "      channel.send({})\n",
              "\n",
              "      for await (const message of channel.messages) {\n",
              "        // Send a message to notify the kernel that we're ready.\n",
              "        channel.send({})\n",
              "        if (message.buffers) {\n",
              "          for (const buffer of message.buffers) {\n",
              "            buffers.push(buffer);\n",
              "            downloaded += buffer.byteLength;\n",
              "            progress.value = downloaded;\n",
              "          }\n",
              "        }\n",
              "      }\n",
              "      const blob = new Blob(buffers, {type: 'application/binary'});\n",
              "      const a = document.createElement('a');\n",
              "      a.href = window.URL.createObjectURL(blob);\n",
              "      a.download = filename;\n",
              "      div.appendChild(a);\n",
              "      a.click();\n",
              "      div.remove();\n",
              "    }\n",
              "  "
            ]
          },
          "metadata": {}
        },
        {
          "output_type": "display_data",
          "data": {
            "text/plain": [
              "<IPython.core.display.Javascript object>"
            ],
            "application/javascript": [
              "download(\"download_b08ef8ae-5448-4df5-afd8-cd7dd5e9ba3b\", \"mnist_cnn.pth\", 903576)"
            ]
          },
          "metadata": {}
        }
      ]
    }
  ]
}